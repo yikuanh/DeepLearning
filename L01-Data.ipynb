{
 "cells": [
  {
   "cell_type": "code",
   "execution_count": 20,
   "id": "aa9743c1-b046-4457-843f-2729ddb53afe",
   "metadata": {
    "tags": []
   },
   "outputs": [],
   "source": [
    "import torch\n",
    "import pandas as pd"
   ]
  },
  {
   "cell_type": "code",
   "execution_count": 5,
   "id": "3ca1a5a0-37e7-4849-ad12-3da3d86a827b",
   "metadata": {
    "tags": []
   },
   "outputs": [],
   "source": [
    "x = torch.arange(12)\n",
    "x_matrix = x.reshape(3,4)"
   ]
  },
  {
   "cell_type": "code",
   "execution_count": 8,
   "id": "72e42789-74db-48cf-8157-886679cc2ec2",
   "metadata": {
    "tags": []
   },
   "outputs": [
    {
     "data": {
      "text/plain": [
       "tensor([ 0,  1,  2,  3,  4,  5,  6,  7,  8,  9, 10, 11])"
      ]
     },
     "execution_count": 8,
     "metadata": {},
     "output_type": "execute_result"
    }
   ],
   "source": [
    "x"
   ]
  },
  {
   "cell_type": "code",
   "execution_count": 4,
   "id": "57e05510-6ca3-4b65-8862-f5c855f0b33e",
   "metadata": {},
   "outputs": [
    {
     "data": {
      "text/plain": [
       "torch.Size([12])"
      ]
     },
     "execution_count": 4,
     "metadata": {},
     "output_type": "execute_result"
    }
   ],
   "source": [
    "x.shape"
   ]
  },
  {
   "cell_type": "code",
   "execution_count": 6,
   "id": "42460fa6-6648-414c-9a07-53ece49f7d3a",
   "metadata": {
    "tags": []
   },
   "outputs": [
    {
     "data": {
      "text/plain": [
       "torch.Size([3, 4])"
      ]
     },
     "execution_count": 6,
     "metadata": {},
     "output_type": "execute_result"
    }
   ],
   "source": [
    "x_matrix.shape"
   ]
  },
  {
   "cell_type": "code",
   "execution_count": 7,
   "id": "fc40afb8-8ce0-47ed-af70-17ee143a732b",
   "metadata": {
    "tags": []
   },
   "outputs": [
    {
     "data": {
      "text/plain": [
       "tensor([[ 0,  1,  2,  3],\n",
       "        [ 4,  5,  6,  7],\n",
       "        [ 8,  9, 10, 11]])"
      ]
     },
     "execution_count": 7,
     "metadata": {},
     "output_type": "execute_result"
    }
   ],
   "source": [
    "x_matrix"
   ]
  },
  {
   "cell_type": "code",
   "execution_count": 13,
   "id": "2f37e9b6-0934-4dd5-8624-dc72d0bad57d",
   "metadata": {
    "tags": []
   },
   "outputs": [],
   "source": [
    "y = torch.randn(3,4) # Standard Gaussian distribution"
   ]
  },
  {
   "cell_type": "code",
   "execution_count": 16,
   "id": "f09d77b9-194e-4f41-b9fe-81597a8cd1a8",
   "metadata": {},
   "outputs": [
    {
     "data": {
      "text/plain": [
       "(tensor([[1.4369, 0.8915, 0.5464, 1.2873],\n",
       "         [1.9341, 5.0085, 6.8923, 7.5462],\n",
       "         [8.0169, 8.4241, 9.8938, 9.2173]]),\n",
       " tensor([[  1.4369,  -1.1085,  -3.4536,  -4.7127],\n",
       "         [ -6.0659,  -4.9915,  -5.1077,  -6.4538],\n",
       "         [ -7.9831,  -9.5759, -10.1062, -12.7827]]))"
      ]
     },
     "execution_count": 16,
     "metadata": {},
     "output_type": "execute_result"
    }
   ],
   "source": [
    "y + x_matrix, y - x_matrix # Display them at the same time"
   ]
  },
  {
   "cell_type": "code",
   "execution_count": 17,
   "id": "d343ec7a-709f-4c07-9c09-0a366b33bf7a",
   "metadata": {
    "tags": []
   },
   "outputs": [
    {
     "data": {
      "text/plain": [
       "(tensor([[ 0,  1,  2,  3],\n",
       "         [ 4,  5,  6,  7],\n",
       "         [ 8,  9, 10, 11]]),\n",
       " tensor([[ 1.4369, -0.1085, -1.4536, -1.7127],\n",
       "         [-2.0659,  0.0085,  0.8923,  0.5462],\n",
       "         [ 0.0169, -0.5759, -0.1062, -1.7827]]))"
      ]
     },
     "execution_count": 17,
     "metadata": {},
     "output_type": "execute_result"
    }
   ],
   "source": [
    "x_matrix, y"
   ]
  },
  {
   "cell_type": "code",
   "execution_count": 19,
   "id": "5f2f14f3-ca3e-426b-bb0f-17db82cb33b7",
   "metadata": {
    "tags": []
   },
   "outputs": [
    {
     "data": {
      "text/plain": [
       "(tensor([[ 0.0000e+00,  1.0000e+00,  2.0000e+00,  3.0000e+00],\n",
       "         [ 4.0000e+00,  5.0000e+00,  6.0000e+00,  7.0000e+00],\n",
       "         [ 8.0000e+00,  9.0000e+00,  1.0000e+01,  1.1000e+01],\n",
       "         [ 1.4369e+00, -1.0848e-01, -1.4536e+00, -1.7127e+00],\n",
       "         [-2.0659e+00,  8.5384e-03,  8.9233e-01,  5.4618e-01],\n",
       "         [ 1.6853e-02, -5.7591e-01, -1.0621e-01, -1.7827e+00]]),\n",
       " tensor([[ 0.0000e+00,  1.0000e+00,  2.0000e+00,  3.0000e+00,  1.4369e+00,\n",
       "          -1.0848e-01, -1.4536e+00, -1.7127e+00],\n",
       "         [ 4.0000e+00,  5.0000e+00,  6.0000e+00,  7.0000e+00, -2.0659e+00,\n",
       "           8.5384e-03,  8.9233e-01,  5.4618e-01],\n",
       "         [ 8.0000e+00,  9.0000e+00,  1.0000e+01,  1.1000e+01,  1.6853e-02,\n",
       "          -5.7591e-01, -1.0621e-01, -1.7827e+00]]))"
      ]
     },
     "execution_count": 19,
     "metadata": {},
     "output_type": "execute_result"
    }
   ],
   "source": [
    "torch.cat((x_matrix, y), dim=0), torch.cat((x_matrix, y), dim=1)"
   ]
  },
  {
   "cell_type": "code",
   "execution_count": 21,
   "id": "4225c662-449c-4def-bd4b-82d82d073f54",
   "metadata": {
    "tags": []
   },
   "outputs": [],
   "source": [
    "import os"
   ]
  },
  {
   "cell_type": "code",
   "execution_count": 22,
   "id": "d8b3e548-1443-4680-83e0-fc687caa8c3c",
   "metadata": {
    "tags": []
   },
   "outputs": [],
   "source": [
    "os.makedirs(os.path.join('..','data'), exist_ok=True) # make new directory\n",
    "data_file = os.path.join('..','data', 'house_tiny.csv') # return string, containing the file address"
   ]
  },
  {
   "cell_type": "code",
   "execution_count": 23,
   "id": "f40ff890-69be-4509-9f58-0f25cd171960",
   "metadata": {
    "tags": []
   },
   "outputs": [],
   "source": [
    "with open(data_file, 'w') as f:\n",
    "    f.write('NumRooms,Alley,Price\\n') # Column name\n",
    "    f.write('NA,Pave,127500\\n')\n",
    "    f.write('2,NA,106000')"
   ]
  },
  {
   "cell_type": "code",
   "execution_count": 24,
   "id": "40bce600-4f25-4589-8165-eb5ed90816e6",
   "metadata": {
    "tags": []
   },
   "outputs": [],
   "source": [
    "data = pd.read_csv(data_file)"
   ]
  },
  {
   "cell_type": "code",
   "execution_count": 26,
   "id": "6e3bce49-41ce-4889-96ed-a93c5bc9c22e",
   "metadata": {
    "tags": []
   },
   "outputs": [
    {
     "data": {
      "text/plain": [
       "'../data/house_tiny.csv'"
      ]
     },
     "execution_count": 26,
     "metadata": {},
     "output_type": "execute_result"
    }
   ],
   "source": [
    "data_file"
   ]
  },
  {
   "cell_type": "code",
   "execution_count": null,
   "id": "c3c8390a-3ae7-4803-ac3a-4e4eef33c05e",
   "metadata": {},
   "outputs": [],
   "source": []
  }
 ],
 "metadata": {
  "kernelspec": {
   "display_name": "Python 3 (ipykernel)",
   "language": "python",
   "name": "python3"
  },
  "language_info": {
   "codemirror_mode": {
    "name": "ipython",
    "version": 3
   },
   "file_extension": ".py",
   "mimetype": "text/x-python",
   "name": "python",
   "nbconvert_exporter": "python",
   "pygments_lexer": "ipython3",
   "version": "3.10.9"
  }
 },
 "nbformat": 4,
 "nbformat_minor": 5
}
